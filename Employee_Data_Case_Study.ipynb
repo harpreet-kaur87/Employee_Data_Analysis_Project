{
 "cells": [
  {
   "cell_type": "markdown",
   "id": "4ca8934a",
   "metadata": {},
   "source": [
    "<div style=\"font-size: 20px; text-align: center;\">\n",
    "<b>Case Study Title:\n",
    "Employee Data Analysis Using Python and Pandas</b>\n",
    "</div>"
   ]
  },
  {
   "cell_type": "markdown",
   "id": "8a6f47d5",
   "metadata": {},
   "source": [
    "### Objective :"
   ]
  },
  {
   "cell_type": "markdown",
   "id": "450c8a04",
   "metadata": {},
   "source": [
    "#### The objective of this case study is to analyze employee data to gain insights into workforce demographics, salary trends, performance metrics, and work preferences within a hypothetical organization. By leveraging this dataset, Analyzed organizational employee data to gain insights into workforce demographics, salaries, performance trends, and work preferences to assist in strategic decision-making."
   ]
  },
  {
   "cell_type": "code",
   "execution_count": 1,
   "id": "d3936ebb",
   "metadata": {},
   "outputs": [],
   "source": [
    "import numpy as np\n",
    "import pandas as pd"
   ]
  },
  {
   "cell_type": "code",
   "execution_count": 2,
   "id": "76ce9c31",
   "metadata": {},
   "outputs": [],
   "source": [
    "df= pd.read_csv('Employee_Data_Case_Study.csv')"
   ]
  },
  {
   "cell_type": "markdown",
   "id": "825a04a6",
   "metadata": {},
   "source": [
    "### Print the first five rows of a DataFrame."
   ]
  },
  {
   "cell_type": "code",
   "execution_count": 3,
   "id": "bd5f390b",
   "metadata": {},
   "outputs": [
    {
     "data": {
      "text/html": [
       "<div>\n",
       "<style scoped>\n",
       "    .dataframe tbody tr th:only-of-type {\n",
       "        vertical-align: middle;\n",
       "    }\n",
       "\n",
       "    .dataframe tbody tr th {\n",
       "        vertical-align: top;\n",
       "    }\n",
       "\n",
       "    .dataframe thead th {\n",
       "        text-align: right;\n",
       "    }\n",
       "</style>\n",
       "<table border=\"1\" class=\"dataframe\">\n",
       "  <thead>\n",
       "    <tr style=\"text-align: right;\">\n",
       "      <th></th>\n",
       "      <th>EmployeeID</th>\n",
       "      <th>Name</th>\n",
       "      <th>Age</th>\n",
       "      <th>Gender</th>\n",
       "      <th>Department</th>\n",
       "      <th>Salary</th>\n",
       "      <th>JoinDate</th>\n",
       "      <th>PerformanceRating</th>\n",
       "      <th>Education Level</th>\n",
       "      <th>Location/Address</th>\n",
       "      <th>Leaves Taken</th>\n",
       "      <th>WorkShift</th>\n",
       "      <th>Mode of Work</th>\n",
       "    </tr>\n",
       "  </thead>\n",
       "  <tbody>\n",
       "    <tr>\n",
       "      <th>0</th>\n",
       "      <td>1</td>\n",
       "      <td>Derek Hill</td>\n",
       "      <td>44</td>\n",
       "      <td>Other</td>\n",
       "      <td>Operations</td>\n",
       "      <td>24128</td>\n",
       "      <td>2023-10-02</td>\n",
       "      <td>3</td>\n",
       "      <td>Bachelor's</td>\n",
       "      <td>Port Isaacchester</td>\n",
       "      <td>0</td>\n",
       "      <td>Day</td>\n",
       "      <td>Hybrid</td>\n",
       "    </tr>\n",
       "    <tr>\n",
       "      <th>1</th>\n",
       "      <td>2</td>\n",
       "      <td>Kevin Cabrera</td>\n",
       "      <td>34</td>\n",
       "      <td>Female</td>\n",
       "      <td>Operations</td>\n",
       "      <td>65971</td>\n",
       "      <td>2012-02-03</td>\n",
       "      <td>3</td>\n",
       "      <td>Bachelor's</td>\n",
       "      <td>Nguyenbury</td>\n",
       "      <td>20</td>\n",
       "      <td>Night</td>\n",
       "      <td>Hybrid</td>\n",
       "    </tr>\n",
       "    <tr>\n",
       "      <th>2</th>\n",
       "      <td>3</td>\n",
       "      <td>Rebekah Lopez</td>\n",
       "      <td>58</td>\n",
       "      <td>Other</td>\n",
       "      <td>IT</td>\n",
       "      <td>26271</td>\n",
       "      <td>2005-02-20</td>\n",
       "      <td>3</td>\n",
       "      <td>PhD</td>\n",
       "      <td>Lake David</td>\n",
       "      <td>15</td>\n",
       "      <td>Night</td>\n",
       "      <td>Hybrid</td>\n",
       "    </tr>\n",
       "    <tr>\n",
       "      <th>3</th>\n",
       "      <td>4</td>\n",
       "      <td>James Patterson</td>\n",
       "      <td>33</td>\n",
       "      <td>Male</td>\n",
       "      <td>IT</td>\n",
       "      <td>40799</td>\n",
       "      <td>2016-06-27</td>\n",
       "      <td>3</td>\n",
       "      <td>PhD</td>\n",
       "      <td>North Debraborough</td>\n",
       "      <td>0</td>\n",
       "      <td>Rotational</td>\n",
       "      <td>Hybrid</td>\n",
       "    </tr>\n",
       "    <tr>\n",
       "      <th>4</th>\n",
       "      <td>5</td>\n",
       "      <td>Alexander Powell</td>\n",
       "      <td>29</td>\n",
       "      <td>Female</td>\n",
       "      <td>IT</td>\n",
       "      <td>34860</td>\n",
       "      <td>2007-07-27</td>\n",
       "      <td>3</td>\n",
       "      <td>PhD</td>\n",
       "      <td>East Joyce</td>\n",
       "      <td>18</td>\n",
       "      <td>Rotational</td>\n",
       "      <td>Hybrid</td>\n",
       "    </tr>\n",
       "  </tbody>\n",
       "</table>\n",
       "</div>"
      ],
      "text/plain": [
       "   EmployeeID              Name  Age  Gender  Department  Salary    JoinDate  \\\n",
       "0           1        Derek Hill   44   Other  Operations   24128  2023-10-02   \n",
       "1           2     Kevin Cabrera   34  Female  Operations   65971  2012-02-03   \n",
       "2           3     Rebekah Lopez   58   Other          IT   26271  2005-02-20   \n",
       "3           4   James Patterson   33    Male          IT   40799  2016-06-27   \n",
       "4           5  Alexander Powell   29  Female          IT   34860  2007-07-27   \n",
       "\n",
       "   PerformanceRating Education Level    Location/Address  Leaves Taken  \\\n",
       "0                  3      Bachelor's   Port Isaacchester             0   \n",
       "1                  3      Bachelor's          Nguyenbury            20   \n",
       "2                  3             PhD          Lake David            15   \n",
       "3                  3             PhD  North Debraborough             0   \n",
       "4                  3             PhD          East Joyce            18   \n",
       "\n",
       "    WorkShift Mode of Work  \n",
       "0         Day       Hybrid  \n",
       "1       Night       Hybrid  \n",
       "2       Night       Hybrid  \n",
       "3  Rotational       Hybrid  \n",
       "4  Rotational       Hybrid  "
      ]
     },
     "execution_count": 3,
     "metadata": {},
     "output_type": "execute_result"
    }
   ],
   "source": [
    "df.head(5)"
   ]
  },
  {
   "cell_type": "markdown",
   "id": "18d3718d",
   "metadata": {},
   "source": [
    "### Print the shape of dataframe"
   ]
  },
  {
   "cell_type": "code",
   "execution_count": 39,
   "id": "48cb3a39",
   "metadata": {},
   "outputs": [
    {
     "data": {
      "text/plain": [
       "(50000, 17)"
      ]
     },
     "execution_count": 39,
     "metadata": {},
     "output_type": "execute_result"
    }
   ],
   "source": [
    "df.shape"
   ]
  },
  {
   "cell_type": "markdown",
   "id": "4f8344bc",
   "metadata": {},
   "source": [
    "### Print the column names and data types of a DataFrame."
   ]
  },
  {
   "cell_type": "code",
   "execution_count": 34,
   "id": "ed6f00cb",
   "metadata": {},
   "outputs": [
    {
     "data": {
      "text/plain": [
       "Index(['EmployeeID', 'Name', 'Age', 'Gender', 'Department', 'Salary',\n",
       "       'JoinDate', 'PerformanceRating', 'Education Level', 'Location/Address',\n",
       "       'Leaves Taken', 'WorkShift', 'Mode of Work', 'AgeGroup', 'Tenure',\n",
       "       'Rank', 'Leave_Rank'],\n",
       "      dtype='object')"
      ]
     },
     "execution_count": 34,
     "metadata": {},
     "output_type": "execute_result"
    }
   ],
   "source": [
    "df.columns"
   ]
  },
  {
   "cell_type": "code",
   "execution_count": 35,
   "id": "313147b5",
   "metadata": {},
   "outputs": [
    {
     "data": {
      "text/plain": [
       "EmployeeID                    int64\n",
       "Name                         object\n",
       "Age                           int64\n",
       "Gender                       object\n",
       "Department                   object\n",
       "Salary                        int64\n",
       "JoinDate             datetime64[ns]\n",
       "PerformanceRating             int64\n",
       "Education Level              object\n",
       "Location/Address             object\n",
       "Leaves Taken                  int64\n",
       "WorkShift                    object\n",
       "Mode of Work                 object\n",
       "AgeGroup                     object\n",
       "Tenure                        int32\n",
       "Rank                        float64\n",
       "Leave_Rank                  float64\n",
       "dtype: object"
      ]
     },
     "execution_count": 35,
     "metadata": {},
     "output_type": "execute_result"
    }
   ],
   "source": [
    "df.dtypes"
   ]
  },
  {
   "cell_type": "markdown",
   "id": "84b80efa",
   "metadata": {},
   "source": [
    "### Check for missing values in a DataFrame."
   ]
  },
  {
   "cell_type": "code",
   "execution_count": 36,
   "id": "3414431a",
   "metadata": {},
   "outputs": [
    {
     "data": {
      "text/plain": [
       "EmployeeID           0\n",
       "Name                 0\n",
       "Age                  0\n",
       "Gender               0\n",
       "Department           0\n",
       "Salary               0\n",
       "JoinDate             0\n",
       "PerformanceRating    0\n",
       "Education Level      0\n",
       "Location/Address     0\n",
       "Leaves Taken         0\n",
       "WorkShift            0\n",
       "Mode of Work         0\n",
       "AgeGroup             0\n",
       "Tenure               0\n",
       "Rank                 0\n",
       "Leave_Rank           0\n",
       "dtype: int64"
      ]
     },
     "execution_count": 36,
     "metadata": {},
     "output_type": "execute_result"
    }
   ],
   "source": [
    "df.isnull().sum()"
   ]
  },
  {
   "cell_type": "markdown",
   "id": "814fb260",
   "metadata": {},
   "source": [
    "### Generate summary statistics (mean, median, standard deviation, etc.) for numeric columns in the DataFrame."
   ]
  },
  {
   "cell_type": "code",
   "execution_count": 37,
   "id": "84840e76",
   "metadata": {},
   "outputs": [
    {
     "data": {
      "text/html": [
       "<div>\n",
       "<style scoped>\n",
       "    .dataframe tbody tr th:only-of-type {\n",
       "        vertical-align: middle;\n",
       "    }\n",
       "\n",
       "    .dataframe tbody tr th {\n",
       "        vertical-align: top;\n",
       "    }\n",
       "\n",
       "    .dataframe thead th {\n",
       "        text-align: right;\n",
       "    }\n",
       "</style>\n",
       "<table border=\"1\" class=\"dataframe\">\n",
       "  <thead>\n",
       "    <tr style=\"text-align: right;\">\n",
       "      <th></th>\n",
       "      <th>EmployeeID</th>\n",
       "      <th>Age</th>\n",
       "      <th>Salary</th>\n",
       "      <th>PerformanceRating</th>\n",
       "      <th>Leaves Taken</th>\n",
       "      <th>Tenure</th>\n",
       "      <th>Rank</th>\n",
       "      <th>Leave_Rank</th>\n",
       "    </tr>\n",
       "  </thead>\n",
       "  <tbody>\n",
       "    <tr>\n",
       "      <th>count</th>\n",
       "      <td>50000.000000</td>\n",
       "      <td>50000.000000</td>\n",
       "      <td>50000.000000</td>\n",
       "      <td>50000.000000</td>\n",
       "      <td>50000.000000</td>\n",
       "      <td>50000.000000</td>\n",
       "      <td>50000.00000</td>\n",
       "      <td>50000.000000</td>\n",
       "    </tr>\n",
       "    <tr>\n",
       "      <th>mean</th>\n",
       "      <td>25000.500000</td>\n",
       "      <td>41.520580</td>\n",
       "      <td>110215.257460</td>\n",
       "      <td>3.004540</td>\n",
       "      <td>14.979580</td>\n",
       "      <td>9.537440</td>\n",
       "      <td>4069.26448</td>\n",
       "      <td>16.020420</td>\n",
       "    </tr>\n",
       "    <tr>\n",
       "      <th>std</th>\n",
       "      <td>14433.901067</td>\n",
       "      <td>13.846915</td>\n",
       "      <td>51903.260025</td>\n",
       "      <td>1.413449</td>\n",
       "      <td>8.917432</td>\n",
       "      <td>5.762706</td>\n",
       "      <td>2349.99674</td>\n",
       "      <td>8.917432</td>\n",
       "    </tr>\n",
       "    <tr>\n",
       "      <th>min</th>\n",
       "      <td>1.000000</td>\n",
       "      <td>18.000000</td>\n",
       "      <td>20000.000000</td>\n",
       "      <td>1.000000</td>\n",
       "      <td>0.000000</td>\n",
       "      <td>0.000000</td>\n",
       "      <td>1.00000</td>\n",
       "      <td>1.000000</td>\n",
       "    </tr>\n",
       "    <tr>\n",
       "      <th>25%</th>\n",
       "      <td>12500.750000</td>\n",
       "      <td>30.000000</td>\n",
       "      <td>65487.750000</td>\n",
       "      <td>2.000000</td>\n",
       "      <td>7.000000</td>\n",
       "      <td>5.000000</td>\n",
       "      <td>2033.00000</td>\n",
       "      <td>8.000000</td>\n",
       "    </tr>\n",
       "    <tr>\n",
       "      <th>50%</th>\n",
       "      <td>25000.500000</td>\n",
       "      <td>42.000000</td>\n",
       "      <td>110412.000000</td>\n",
       "      <td>3.000000</td>\n",
       "      <td>15.000000</td>\n",
       "      <td>10.000000</td>\n",
       "      <td>4068.00000</td>\n",
       "      <td>16.000000</td>\n",
       "    </tr>\n",
       "    <tr>\n",
       "      <th>75%</th>\n",
       "      <td>37500.250000</td>\n",
       "      <td>53.000000</td>\n",
       "      <td>155064.500000</td>\n",
       "      <td>4.000000</td>\n",
       "      <td>23.000000</td>\n",
       "      <td>15.000000</td>\n",
       "      <td>6103.00000</td>\n",
       "      <td>24.000000</td>\n",
       "    </tr>\n",
       "    <tr>\n",
       "      <th>max</th>\n",
       "      <td>50000.000000</td>\n",
       "      <td>65.000000</td>\n",
       "      <td>199998.000000</td>\n",
       "      <td>5.000000</td>\n",
       "      <td>30.000000</td>\n",
       "      <td>20.000000</td>\n",
       "      <td>8284.00000</td>\n",
       "      <td>31.000000</td>\n",
       "    </tr>\n",
       "  </tbody>\n",
       "</table>\n",
       "</div>"
      ],
      "text/plain": [
       "         EmployeeID           Age         Salary  PerformanceRating  \\\n",
       "count  50000.000000  50000.000000   50000.000000       50000.000000   \n",
       "mean   25000.500000     41.520580  110215.257460           3.004540   \n",
       "std    14433.901067     13.846915   51903.260025           1.413449   \n",
       "min        1.000000     18.000000   20000.000000           1.000000   \n",
       "25%    12500.750000     30.000000   65487.750000           2.000000   \n",
       "50%    25000.500000     42.000000  110412.000000           3.000000   \n",
       "75%    37500.250000     53.000000  155064.500000           4.000000   \n",
       "max    50000.000000     65.000000  199998.000000           5.000000   \n",
       "\n",
       "       Leaves Taken        Tenure         Rank    Leave_Rank  \n",
       "count  50000.000000  50000.000000  50000.00000  50000.000000  \n",
       "mean      14.979580      9.537440   4069.26448     16.020420  \n",
       "std        8.917432      5.762706   2349.99674      8.917432  \n",
       "min        0.000000      0.000000      1.00000      1.000000  \n",
       "25%        7.000000      5.000000   2033.00000      8.000000  \n",
       "50%       15.000000     10.000000   4068.00000     16.000000  \n",
       "75%       23.000000     15.000000   6103.00000     24.000000  \n",
       "max       30.000000     20.000000   8284.00000     31.000000  "
      ]
     },
     "execution_count": 37,
     "metadata": {},
     "output_type": "execute_result"
    }
   ],
   "source": [
    "df.describe()"
   ]
  },
  {
   "cell_type": "markdown",
   "id": "8711403e",
   "metadata": {},
   "source": [
    "### Print the total number of employees"
   ]
  },
  {
   "cell_type": "code",
   "execution_count": 4,
   "id": "ebce7240",
   "metadata": {},
   "outputs": [
    {
     "data": {
      "text/plain": [
       "50000"
      ]
     },
     "execution_count": 4,
     "metadata": {},
     "output_type": "execute_result"
    }
   ],
   "source": [
    "total_employees = df['EmployeeID'].count()\n",
    "total_employees"
   ]
  },
  {
   "cell_type": "markdown",
   "id": "0dae8197",
   "metadata": {},
   "source": [
    "### How many employees are in each department?"
   ]
  },
  {
   "cell_type": "code",
   "execution_count": 5,
   "id": "576c9b87",
   "metadata": {},
   "outputs": [
    {
     "data": {
      "text/plain": [
       "Operations    8489\n",
       "HR            8428\n",
       "Sales         8329\n",
       "IT            8289\n",
       "Marketing     8237\n",
       "Finance       8228\n",
       "Name: Department, dtype: int64"
      ]
     },
     "execution_count": 5,
     "metadata": {},
     "output_type": "execute_result"
    }
   ],
   "source": [
    "department_count = df.Department.value_counts()\n",
    "department_count"
   ]
  },
  {
   "cell_type": "markdown",
   "id": "1f59e638",
   "metadata": {},
   "source": [
    "### What is the average salary of employees in each department?"
   ]
  },
  {
   "cell_type": "code",
   "execution_count": 40,
   "id": "a819b62e",
   "metadata": {},
   "outputs": [
    {
     "data": {
      "text/plain": [
       "Department\n",
       "Finance       111370.365702\n",
       "HR            109925.846464\n",
       "IT            110745.809024\n",
       "Marketing     110128.752458\n",
       "Operations    110016.386854\n",
       "Sales         109127.244207\n",
       "Name: Salary, dtype: float64"
      ]
     },
     "execution_count": 40,
     "metadata": {},
     "output_type": "execute_result"
    }
   ],
   "source": [
    "average_salary = df.groupby('Department')['Salary'].mean()\n",
    "average_salary"
   ]
  },
  {
   "cell_type": "markdown",
   "id": "37234d05",
   "metadata": {},
   "source": [
    "### What is the gender distribution in the dataset?"
   ]
  },
  {
   "cell_type": "code",
   "execution_count": 7,
   "id": "a543fc8b",
   "metadata": {},
   "outputs": [
    {
     "data": {
      "text/plain": [
       "Other     16736\n",
       "Male      16718\n",
       "Female    16546\n",
       "Name: Gender, dtype: int64"
      ]
     },
     "execution_count": 7,
     "metadata": {},
     "output_type": "execute_result"
    }
   ],
   "source": [
    "gender_dist = df.Gender.value_counts()\n",
    "gender_dist"
   ]
  },
  {
   "cell_type": "markdown",
   "id": "7cb32f30",
   "metadata": {},
   "source": [
    "### What is the minimum and maximum salary in the dataset?"
   ]
  },
  {
   "cell_type": "code",
   "execution_count": 8,
   "id": "8dc8d3e9",
   "metadata": {},
   "outputs": [
    {
     "data": {
      "text/plain": [
       "20000"
      ]
     },
     "execution_count": 8,
     "metadata": {},
     "output_type": "execute_result"
    }
   ],
   "source": [
    "min_salary = df['Salary'].min()\n",
    "min_salary"
   ]
  },
  {
   "cell_type": "code",
   "execution_count": 9,
   "id": "3029e71e",
   "metadata": {},
   "outputs": [
    {
     "data": {
      "text/plain": [
       "199998"
      ]
     },
     "execution_count": 9,
     "metadata": {},
     "output_type": "execute_result"
    }
   ],
   "source": [
    "max_salary = df['Salary'].max()\n",
    "max_salary"
   ]
  },
  {
   "cell_type": "markdown",
   "id": "4545e941",
   "metadata": {},
   "source": [
    "### How many employees have a performance rating of 5?"
   ]
  },
  {
   "cell_type": "code",
   "execution_count": 10,
   "id": "6ed8d0ba",
   "metadata": {},
   "outputs": [
    {
     "data": {
      "text/plain": [
       "10068"
      ]
     },
     "execution_count": 10,
     "metadata": {},
     "output_type": "execute_result"
    }
   ],
   "source": [
    "top_performers_count = len(df[df['PerformanceRating'] == 5])\n",
    "top_performers_count"
   ]
  },
  {
   "cell_type": "markdown",
   "id": "63c1fac3",
   "metadata": {},
   "source": [
    "### Find the most common education level among employees."
   ]
  },
  {
   "cell_type": "code",
   "execution_count": 11,
   "id": "dbb586df",
   "metadata": {},
   "outputs": [
    {
     "data": {
      "text/plain": [
       "\"Master's\""
      ]
     },
     "execution_count": 11,
     "metadata": {},
     "output_type": "execute_result"
    }
   ],
   "source": [
    "most_common_education = df['Education Level'].mode()[0]\n",
    "most_common_education"
   ]
  },
  {
   "cell_type": "markdown",
   "id": "88f03c4e",
   "metadata": {},
   "source": [
    "### What is the earliest and latest joining date in the dataset?"
   ]
  },
  {
   "cell_type": "code",
   "execution_count": 12,
   "id": "fdb2f67c",
   "metadata": {},
   "outputs": [
    {
     "data": {
      "text/plain": [
       "'2004-12-05'"
      ]
     },
     "execution_count": 12,
     "metadata": {},
     "output_type": "execute_result"
    }
   ],
   "source": [
    "earliestDate = df['JoinDate'].min()\n",
    "earliestDate"
   ]
  },
  {
   "cell_type": "code",
   "execution_count": 13,
   "id": "1190b8e8",
   "metadata": {},
   "outputs": [
    {
     "data": {
      "text/plain": [
       "'2024-12-04'"
      ]
     },
     "execution_count": 13,
     "metadata": {},
     "output_type": "execute_result"
    }
   ],
   "source": [
    "latestDate = df['JoinDate'].max()\n",
    "latestDate"
   ]
  },
  {
   "cell_type": "markdown",
   "id": "1692975d",
   "metadata": {},
   "source": [
    "### Identify employees who have taken more than 20 leaves."
   ]
  },
  {
   "cell_type": "code",
   "execution_count": 14,
   "id": "2854f96b",
   "metadata": {},
   "outputs": [
    {
     "data": {
      "text/html": [
       "<div>\n",
       "<style scoped>\n",
       "    .dataframe tbody tr th:only-of-type {\n",
       "        vertical-align: middle;\n",
       "    }\n",
       "\n",
       "    .dataframe tbody tr th {\n",
       "        vertical-align: top;\n",
       "    }\n",
       "\n",
       "    .dataframe thead th {\n",
       "        text-align: right;\n",
       "    }\n",
       "</style>\n",
       "<table border=\"1\" class=\"dataframe\">\n",
       "  <thead>\n",
       "    <tr style=\"text-align: right;\">\n",
       "      <th></th>\n",
       "      <th>EmployeeID</th>\n",
       "      <th>Name</th>\n",
       "      <th>Department</th>\n",
       "      <th>Leaves Taken</th>\n",
       "    </tr>\n",
       "  </thead>\n",
       "  <tbody>\n",
       "    <tr>\n",
       "      <th>5</th>\n",
       "      <td>6</td>\n",
       "      <td>Scott Jacobson</td>\n",
       "      <td>IT</td>\n",
       "      <td>24</td>\n",
       "    </tr>\n",
       "    <tr>\n",
       "      <th>12</th>\n",
       "      <td>13</td>\n",
       "      <td>Shawn Cook</td>\n",
       "      <td>Finance</td>\n",
       "      <td>21</td>\n",
       "    </tr>\n",
       "    <tr>\n",
       "      <th>14</th>\n",
       "      <td>15</td>\n",
       "      <td>Andrew Stevenson</td>\n",
       "      <td>Operations</td>\n",
       "      <td>23</td>\n",
       "    </tr>\n",
       "    <tr>\n",
       "      <th>16</th>\n",
       "      <td>17</td>\n",
       "      <td>Mary Clark</td>\n",
       "      <td>Sales</td>\n",
       "      <td>21</td>\n",
       "    </tr>\n",
       "    <tr>\n",
       "      <th>20</th>\n",
       "      <td>21</td>\n",
       "      <td>Joshua Smith</td>\n",
       "      <td>Operations</td>\n",
       "      <td>30</td>\n",
       "    </tr>\n",
       "    <tr>\n",
       "      <th>...</th>\n",
       "      <td>...</td>\n",
       "      <td>...</td>\n",
       "      <td>...</td>\n",
       "      <td>...</td>\n",
       "    </tr>\n",
       "    <tr>\n",
       "      <th>49979</th>\n",
       "      <td>49980</td>\n",
       "      <td>Sherry Ferguson</td>\n",
       "      <td>IT</td>\n",
       "      <td>23</td>\n",
       "    </tr>\n",
       "    <tr>\n",
       "      <th>49981</th>\n",
       "      <td>49982</td>\n",
       "      <td>Kathy Fitzgerald</td>\n",
       "      <td>Sales</td>\n",
       "      <td>24</td>\n",
       "    </tr>\n",
       "    <tr>\n",
       "      <th>49984</th>\n",
       "      <td>49985</td>\n",
       "      <td>Justin Blake</td>\n",
       "      <td>Sales</td>\n",
       "      <td>25</td>\n",
       "    </tr>\n",
       "    <tr>\n",
       "      <th>49996</th>\n",
       "      <td>49997</td>\n",
       "      <td>Edward Combs</td>\n",
       "      <td>Finance</td>\n",
       "      <td>24</td>\n",
       "    </tr>\n",
       "    <tr>\n",
       "      <th>49999</th>\n",
       "      <td>50000</td>\n",
       "      <td>Rachel Brown</td>\n",
       "      <td>Sales</td>\n",
       "      <td>24</td>\n",
       "    </tr>\n",
       "  </tbody>\n",
       "</table>\n",
       "<p>16050 rows × 4 columns</p>\n",
       "</div>"
      ],
      "text/plain": [
       "       EmployeeID              Name  Department  Leaves Taken\n",
       "5               6    Scott Jacobson          IT            24\n",
       "12             13        Shawn Cook     Finance            21\n",
       "14             15  Andrew Stevenson  Operations            23\n",
       "16             17        Mary Clark       Sales            21\n",
       "20             21      Joshua Smith  Operations            30\n",
       "...           ...               ...         ...           ...\n",
       "49979       49980   Sherry Ferguson          IT            23\n",
       "49981       49982  Kathy Fitzgerald       Sales            24\n",
       "49984       49985      Justin Blake       Sales            25\n",
       "49996       49997      Edward Combs     Finance            24\n",
       "49999       50000      Rachel Brown       Sales            24\n",
       "\n",
       "[16050 rows x 4 columns]"
      ]
     },
     "execution_count": 14,
     "metadata": {},
     "output_type": "execute_result"
    }
   ],
   "source": [
    "high_leaves = df[df['Leaves Taken'] > 20][['EmployeeID','Name','Department','Leaves Taken']]\n",
    "high_leaves"
   ]
  },
  {
   "cell_type": "markdown",
   "id": "5e46114a",
   "metadata": {},
   "source": [
    "### Find the average salary of employees grouped by both department and gender."
   ]
  },
  {
   "cell_type": "code",
   "execution_count": 15,
   "id": "92735b4f",
   "metadata": {},
   "outputs": [
    {
     "data": {
      "text/plain": [
       "Department  Gender\n",
       "Finance     Female    111161.084683\n",
       "            Male      111384.707199\n",
       "            Other     111557.563758\n",
       "HR          Female    110471.606528\n",
       "            Male      108568.365257\n",
       "            Other     110775.855344\n",
       "IT          Female    110251.781531\n",
       "            Male      111445.292010\n",
       "            Other     110533.146593\n",
       "Marketing   Female    109839.224012\n",
       "            Male      109724.688188\n",
       "            Other     110809.742353\n",
       "Operations  Female    110158.626930\n",
       "            Male      110050.622992\n",
       "            Other     109846.895281\n",
       "Sales       Female    107421.695842\n",
       "            Male      109768.564381\n",
       "            Other     110169.281788\n",
       "Name: Salary, dtype: float64"
      ]
     },
     "execution_count": 15,
     "metadata": {},
     "output_type": "execute_result"
    }
   ],
   "source": [
    "avg_salary_by_dept_gender = df.groupby(['Department','Gender'])['Salary'].mean()\n",
    "avg_salary_by_dept_gender"
   ]
  },
  {
   "cell_type": "markdown",
   "id": "c82fddc4",
   "metadata": {},
   "source": [
    "### Which department has the highest average salary?"
   ]
  },
  {
   "cell_type": "code",
   "execution_count": 16,
   "id": "f95850b0",
   "metadata": {},
   "outputs": [
    {
     "data": {
      "text/plain": [
       "'Finance'"
      ]
     },
     "execution_count": 16,
     "metadata": {},
     "output_type": "execute_result"
    }
   ],
   "source": [
    "avg_salary_by_dept = df.groupby('Department')['Salary'].mean()\n",
    "highest_avg_sal_dept = avg_salary_by_dept.idxmax()\n",
    "highest_avg_sal_dept"
   ]
  },
  {
   "cell_type": "markdown",
   "id": "1f30eb98",
   "metadata": {},
   "source": [
    "### What is the average performance rating for each work shift?"
   ]
  },
  {
   "cell_type": "code",
   "execution_count": 17,
   "id": "edfca335",
   "metadata": {},
   "outputs": [
    {
     "data": {
      "text/plain": [
       "WorkShift\n",
       "Day           2.996809\n",
       "Night         3.011930\n",
       "Rotational    3.004812\n",
       "Name: PerformanceRating, dtype: float64"
      ]
     },
     "execution_count": 17,
     "metadata": {},
     "output_type": "execute_result"
    }
   ],
   "source": [
    "avg_rating_by_shift = df.groupby('WorkShift')['PerformanceRating'].mean()\n",
    "avg_rating_by_shift"
   ]
  },
  {
   "cell_type": "markdown",
   "id": "fb8eda74",
   "metadata": {},
   "source": [
    "### How many employees are working in each mode of work?"
   ]
  },
  {
   "cell_type": "code",
   "execution_count": 18,
   "id": "90f05dbc",
   "metadata": {},
   "outputs": [
    {
     "data": {
      "text/plain": [
       "Remote     16754\n",
       "On-site    16692\n",
       "Hybrid     16554\n",
       "Name: Mode of Work, dtype: int64"
      ]
     },
     "execution_count": 18,
     "metadata": {},
     "output_type": "execute_result"
    }
   ],
   "source": [
    "mode_of_work_count = df['Mode of Work'].value_counts()\n",
    "mode_of_work_count"
   ]
  },
  {
   "cell_type": "markdown",
   "id": "bc8a6d78",
   "metadata": {},
   "source": [
    "### Find the average number of leaves taken by employees in each department."
   ]
  },
  {
   "cell_type": "code",
   "execution_count": 19,
   "id": "1d532002",
   "metadata": {},
   "outputs": [
    {
     "data": {
      "text/plain": [
       "Department\n",
       "Finance       14.885513\n",
       "HR            14.957404\n",
       "IT            15.018941\n",
       "Marketing     15.110720\n",
       "Operations    14.912122\n",
       "Sales         14.994837\n",
       "Name: Leaves Taken, dtype: float64"
      ]
     },
     "execution_count": 19,
     "metadata": {},
     "output_type": "execute_result"
    }
   ],
   "source": [
    "avg_leaves_by_dept = df.groupby('Department')['Leaves Taken'].mean()\n",
    "avg_leaves_by_dept"
   ]
  },
  {
   "cell_type": "markdown",
   "id": "470d977e",
   "metadata": {},
   "source": [
    "### Identify the top 5 departments with the highest total salary expenditure."
   ]
  },
  {
   "cell_type": "code",
   "execution_count": 20,
   "id": "d214c2a7",
   "metadata": {},
   "outputs": [
    {
     "data": {
      "text/plain": [
       "Department\n",
       "Operations    933929108\n",
       "HR            926455034\n",
       "IT            917972011\n",
       "Finance       916355369\n",
       "Sales         908920817\n",
       "Name: Salary, dtype: int64"
      ]
     },
     "execution_count": 20,
     "metadata": {},
     "output_type": "execute_result"
    }
   ],
   "source": [
    "total_salary_by_dept = df.groupby('Department')['Salary'].sum()\n",
    "top_5_dept = total_salary_by_dept.sort_values(ascending=False).head(5)\n",
    "top_5_dept"
   ]
  },
  {
   "cell_type": "markdown",
   "id": "71935fa5",
   "metadata": {},
   "source": [
    "### Find the age group (e.g., 18-25, 26-35, etc.) with the highest average performance rating."
   ]
  },
  {
   "cell_type": "code",
   "execution_count": 21,
   "id": "b414e809",
   "metadata": {},
   "outputs": [],
   "source": [
    "def group_age(age):\n",
    "    \n",
    "    if age < 25:\n",
    "        return \"18-25\"\n",
    "    elif age < 35:\n",
    "        return \"25-35\"\n",
    "    elif age < 45:\n",
    "        return \"35-45\"\n",
    "    elif age < 55:\n",
    "        return \"45-55\"\n",
    "    else:\n",
    "        return \"55+\""
   ]
  },
  {
   "cell_type": "code",
   "execution_count": 22,
   "id": "5914be72",
   "metadata": {},
   "outputs": [],
   "source": [
    "df['AgeGroup'] = df['Age'].apply(group_age)"
   ]
  },
  {
   "cell_type": "code",
   "execution_count": 23,
   "id": "e1638dab",
   "metadata": {},
   "outputs": [],
   "source": [
    "avg_rating_by_age_group = df.groupby('AgeGroup')['PerformanceRating'].mean()"
   ]
  },
  {
   "cell_type": "code",
   "execution_count": 24,
   "id": "001800b7",
   "metadata": {},
   "outputs": [
    {
     "data": {
      "text/plain": [
       "'18-25'"
      ]
     },
     "execution_count": 24,
     "metadata": {},
     "output_type": "execute_result"
    }
   ],
   "source": [
    "highest_rating_age_group = avg_rating_by_age_group.idxmax()\n",
    "highest_rating_age_group"
   ]
  },
  {
   "cell_type": "markdown",
   "id": "8eebde9c",
   "metadata": {},
   "source": [
    "###  Identify the top 3 cities with the highest number of employees."
   ]
  },
  {
   "cell_type": "code",
   "execution_count": 25,
   "id": "1b57dc93",
   "metadata": {},
   "outputs": [
    {
     "data": {
      "text/plain": [
       "Port Michael     54\n",
       "New Michael      48\n",
       "South Michael    47\n",
       "Name: Location/Address, dtype: int64"
      ]
     },
     "execution_count": 25,
     "metadata": {},
     "output_type": "execute_result"
    }
   ],
   "source": [
    "top_3_cities = df['Location/Address'].value_counts().head(3)\n",
    "top_3_cities"
   ]
  },
  {
   "cell_type": "markdown",
   "id": "f66d0a2d",
   "metadata": {},
   "source": [
    "### Create a new column Tenure to show the number of years each employee has been with the company"
   ]
  },
  {
   "cell_type": "code",
   "execution_count": 26,
   "id": "4d9c0e95",
   "metadata": {},
   "outputs": [],
   "source": [
    "df['JoinDate'] = pd.to_datetime(df['JoinDate'])"
   ]
  },
  {
   "cell_type": "code",
   "execution_count": 27,
   "id": "eda41dc6",
   "metadata": {},
   "outputs": [],
   "source": [
    "df['Tenure'] = ((pd.Timestamp.now() - df['JoinDate']).dt.days / 365).astype(int)"
   ]
  },
  {
   "cell_type": "code",
   "execution_count": 28,
   "id": "1a36d219",
   "metadata": {},
   "outputs": [
    {
     "data": {
      "text/html": [
       "<div>\n",
       "<style scoped>\n",
       "    .dataframe tbody tr th:only-of-type {\n",
       "        vertical-align: middle;\n",
       "    }\n",
       "\n",
       "    .dataframe tbody tr th {\n",
       "        vertical-align: top;\n",
       "    }\n",
       "\n",
       "    .dataframe thead th {\n",
       "        text-align: right;\n",
       "    }\n",
       "</style>\n",
       "<table border=\"1\" class=\"dataframe\">\n",
       "  <thead>\n",
       "    <tr style=\"text-align: right;\">\n",
       "      <th></th>\n",
       "      <th>EmployeeID</th>\n",
       "      <th>Name</th>\n",
       "      <th>Age</th>\n",
       "      <th>Gender</th>\n",
       "      <th>Department</th>\n",
       "      <th>Salary</th>\n",
       "      <th>JoinDate</th>\n",
       "      <th>PerformanceRating</th>\n",
       "      <th>Education Level</th>\n",
       "      <th>Location/Address</th>\n",
       "      <th>Leaves Taken</th>\n",
       "      <th>WorkShift</th>\n",
       "      <th>Mode of Work</th>\n",
       "      <th>AgeGroup</th>\n",
       "      <th>Tenure</th>\n",
       "    </tr>\n",
       "  </thead>\n",
       "  <tbody>\n",
       "    <tr>\n",
       "      <th>0</th>\n",
       "      <td>1</td>\n",
       "      <td>Derek Hill</td>\n",
       "      <td>44</td>\n",
       "      <td>Other</td>\n",
       "      <td>Operations</td>\n",
       "      <td>24128</td>\n",
       "      <td>2023-10-02</td>\n",
       "      <td>3</td>\n",
       "      <td>Bachelor's</td>\n",
       "      <td>Port Isaacchester</td>\n",
       "      <td>0</td>\n",
       "      <td>Day</td>\n",
       "      <td>Hybrid</td>\n",
       "      <td>35-45</td>\n",
       "      <td>1</td>\n",
       "    </tr>\n",
       "    <tr>\n",
       "      <th>1</th>\n",
       "      <td>2</td>\n",
       "      <td>Kevin Cabrera</td>\n",
       "      <td>34</td>\n",
       "      <td>Female</td>\n",
       "      <td>Operations</td>\n",
       "      <td>65971</td>\n",
       "      <td>2012-02-03</td>\n",
       "      <td>3</td>\n",
       "      <td>Bachelor's</td>\n",
       "      <td>Nguyenbury</td>\n",
       "      <td>20</td>\n",
       "      <td>Night</td>\n",
       "      <td>Hybrid</td>\n",
       "      <td>25-35</td>\n",
       "      <td>12</td>\n",
       "    </tr>\n",
       "    <tr>\n",
       "      <th>2</th>\n",
       "      <td>3</td>\n",
       "      <td>Rebekah Lopez</td>\n",
       "      <td>58</td>\n",
       "      <td>Other</td>\n",
       "      <td>IT</td>\n",
       "      <td>26271</td>\n",
       "      <td>2005-02-20</td>\n",
       "      <td>3</td>\n",
       "      <td>PhD</td>\n",
       "      <td>Lake David</td>\n",
       "      <td>15</td>\n",
       "      <td>Night</td>\n",
       "      <td>Hybrid</td>\n",
       "      <td>55+</td>\n",
       "      <td>19</td>\n",
       "    </tr>\n",
       "    <tr>\n",
       "      <th>3</th>\n",
       "      <td>4</td>\n",
       "      <td>James Patterson</td>\n",
       "      <td>33</td>\n",
       "      <td>Male</td>\n",
       "      <td>IT</td>\n",
       "      <td>40799</td>\n",
       "      <td>2016-06-27</td>\n",
       "      <td>3</td>\n",
       "      <td>PhD</td>\n",
       "      <td>North Debraborough</td>\n",
       "      <td>0</td>\n",
       "      <td>Rotational</td>\n",
       "      <td>Hybrid</td>\n",
       "      <td>25-35</td>\n",
       "      <td>8</td>\n",
       "    </tr>\n",
       "    <tr>\n",
       "      <th>4</th>\n",
       "      <td>5</td>\n",
       "      <td>Alexander Powell</td>\n",
       "      <td>29</td>\n",
       "      <td>Female</td>\n",
       "      <td>IT</td>\n",
       "      <td>34860</td>\n",
       "      <td>2007-07-27</td>\n",
       "      <td>3</td>\n",
       "      <td>PhD</td>\n",
       "      <td>East Joyce</td>\n",
       "      <td>18</td>\n",
       "      <td>Rotational</td>\n",
       "      <td>Hybrid</td>\n",
       "      <td>25-35</td>\n",
       "      <td>17</td>\n",
       "    </tr>\n",
       "    <tr>\n",
       "      <th>...</th>\n",
       "      <td>...</td>\n",
       "      <td>...</td>\n",
       "      <td>...</td>\n",
       "      <td>...</td>\n",
       "      <td>...</td>\n",
       "      <td>...</td>\n",
       "      <td>...</td>\n",
       "      <td>...</td>\n",
       "      <td>...</td>\n",
       "      <td>...</td>\n",
       "      <td>...</td>\n",
       "      <td>...</td>\n",
       "      <td>...</td>\n",
       "      <td>...</td>\n",
       "      <td>...</td>\n",
       "    </tr>\n",
       "    <tr>\n",
       "      <th>49995</th>\n",
       "      <td>49996</td>\n",
       "      <td>Justin Stout</td>\n",
       "      <td>55</td>\n",
       "      <td>Male</td>\n",
       "      <td>Marketing</td>\n",
       "      <td>91980</td>\n",
       "      <td>2011-05-18</td>\n",
       "      <td>2</td>\n",
       "      <td>High School</td>\n",
       "      <td>Daviston</td>\n",
       "      <td>12</td>\n",
       "      <td>Rotational</td>\n",
       "      <td>On-site</td>\n",
       "      <td>55+</td>\n",
       "      <td>13</td>\n",
       "    </tr>\n",
       "    <tr>\n",
       "      <th>49996</th>\n",
       "      <td>49997</td>\n",
       "      <td>Edward Combs</td>\n",
       "      <td>27</td>\n",
       "      <td>Male</td>\n",
       "      <td>Finance</td>\n",
       "      <td>111662</td>\n",
       "      <td>2010-07-16</td>\n",
       "      <td>1</td>\n",
       "      <td>Bachelor's</td>\n",
       "      <td>East Lawrence</td>\n",
       "      <td>24</td>\n",
       "      <td>Night</td>\n",
       "      <td>On-site</td>\n",
       "      <td>25-35</td>\n",
       "      <td>14</td>\n",
       "    </tr>\n",
       "    <tr>\n",
       "      <th>49997</th>\n",
       "      <td>49998</td>\n",
       "      <td>Courtney Ferguson</td>\n",
       "      <td>61</td>\n",
       "      <td>Female</td>\n",
       "      <td>IT</td>\n",
       "      <td>64917</td>\n",
       "      <td>2019-01-16</td>\n",
       "      <td>2</td>\n",
       "      <td>Master's</td>\n",
       "      <td>Arellanofort</td>\n",
       "      <td>6</td>\n",
       "      <td>Rotational</td>\n",
       "      <td>Hybrid</td>\n",
       "      <td>55+</td>\n",
       "      <td>5</td>\n",
       "    </tr>\n",
       "    <tr>\n",
       "      <th>49998</th>\n",
       "      <td>49999</td>\n",
       "      <td>Michelle Jacobs</td>\n",
       "      <td>65</td>\n",
       "      <td>Other</td>\n",
       "      <td>Marketing</td>\n",
       "      <td>85729</td>\n",
       "      <td>2017-04-08</td>\n",
       "      <td>2</td>\n",
       "      <td>High School</td>\n",
       "      <td>East Danielton</td>\n",
       "      <td>8</td>\n",
       "      <td>Rotational</td>\n",
       "      <td>Remote</td>\n",
       "      <td>55+</td>\n",
       "      <td>7</td>\n",
       "    </tr>\n",
       "    <tr>\n",
       "      <th>49999</th>\n",
       "      <td>50000</td>\n",
       "      <td>Rachel Brown</td>\n",
       "      <td>65</td>\n",
       "      <td>Other</td>\n",
       "      <td>Sales</td>\n",
       "      <td>169020</td>\n",
       "      <td>2016-07-29</td>\n",
       "      <td>3</td>\n",
       "      <td>PhD</td>\n",
       "      <td>West Keithmouth</td>\n",
       "      <td>24</td>\n",
       "      <td>Rotational</td>\n",
       "      <td>On-site</td>\n",
       "      <td>55+</td>\n",
       "      <td>8</td>\n",
       "    </tr>\n",
       "  </tbody>\n",
       "</table>\n",
       "<p>50000 rows × 15 columns</p>\n",
       "</div>"
      ],
      "text/plain": [
       "       EmployeeID               Name  Age  Gender  Department  Salary  \\\n",
       "0               1         Derek Hill   44   Other  Operations   24128   \n",
       "1               2      Kevin Cabrera   34  Female  Operations   65971   \n",
       "2               3      Rebekah Lopez   58   Other          IT   26271   \n",
       "3               4    James Patterson   33    Male          IT   40799   \n",
       "4               5   Alexander Powell   29  Female          IT   34860   \n",
       "...           ...                ...  ...     ...         ...     ...   \n",
       "49995       49996       Justin Stout   55    Male   Marketing   91980   \n",
       "49996       49997       Edward Combs   27    Male     Finance  111662   \n",
       "49997       49998  Courtney Ferguson   61  Female          IT   64917   \n",
       "49998       49999    Michelle Jacobs   65   Other   Marketing   85729   \n",
       "49999       50000       Rachel Brown   65   Other       Sales  169020   \n",
       "\n",
       "        JoinDate  PerformanceRating Education Level    Location/Address  \\\n",
       "0     2023-10-02                  3      Bachelor's   Port Isaacchester   \n",
       "1     2012-02-03                  3      Bachelor's          Nguyenbury   \n",
       "2     2005-02-20                  3             PhD          Lake David   \n",
       "3     2016-06-27                  3             PhD  North Debraborough   \n",
       "4     2007-07-27                  3             PhD          East Joyce   \n",
       "...          ...                ...             ...                 ...   \n",
       "49995 2011-05-18                  2     High School            Daviston   \n",
       "49996 2010-07-16                  1      Bachelor's       East Lawrence   \n",
       "49997 2019-01-16                  2        Master's        Arellanofort   \n",
       "49998 2017-04-08                  2     High School      East Danielton   \n",
       "49999 2016-07-29                  3             PhD     West Keithmouth   \n",
       "\n",
       "       Leaves Taken   WorkShift Mode of Work AgeGroup  Tenure  \n",
       "0                 0         Day       Hybrid    35-45       1  \n",
       "1                20       Night       Hybrid    25-35      12  \n",
       "2                15       Night       Hybrid      55+      19  \n",
       "3                 0  Rotational       Hybrid    25-35       8  \n",
       "4                18  Rotational       Hybrid    25-35      17  \n",
       "...             ...         ...          ...      ...     ...  \n",
       "49995            12  Rotational      On-site      55+      13  \n",
       "49996            24       Night      On-site    25-35      14  \n",
       "49997             6  Rotational       Hybrid      55+       5  \n",
       "49998             8  Rotational       Remote      55+       7  \n",
       "49999            24  Rotational      On-site      55+       8  \n",
       "\n",
       "[50000 rows x 15 columns]"
      ]
     },
     "execution_count": 28,
     "metadata": {},
     "output_type": "execute_result"
    }
   ],
   "source": [
    "df"
   ]
  },
  {
   "cell_type": "markdown",
   "id": "c8a6d610",
   "metadata": {},
   "source": [
    "### Identify employees who have been with the organization for more than 10 years."
   ]
  },
  {
   "cell_type": "code",
   "execution_count": 29,
   "id": "c4ca4cfc",
   "metadata": {},
   "outputs": [
    {
     "data": {
      "text/html": [
       "<div>\n",
       "<style scoped>\n",
       "    .dataframe tbody tr th:only-of-type {\n",
       "        vertical-align: middle;\n",
       "    }\n",
       "\n",
       "    .dataframe tbody tr th {\n",
       "        vertical-align: top;\n",
       "    }\n",
       "\n",
       "    .dataframe thead th {\n",
       "        text-align: right;\n",
       "    }\n",
       "</style>\n",
       "<table border=\"1\" class=\"dataframe\">\n",
       "  <thead>\n",
       "    <tr style=\"text-align: right;\">\n",
       "      <th></th>\n",
       "      <th>EmployeeID</th>\n",
       "      <th>Name</th>\n",
       "      <th>Age</th>\n",
       "      <th>Gender</th>\n",
       "      <th>Department</th>\n",
       "      <th>Salary</th>\n",
       "      <th>JoinDate</th>\n",
       "      <th>PerformanceRating</th>\n",
       "      <th>Education Level</th>\n",
       "      <th>Location/Address</th>\n",
       "      <th>Leaves Taken</th>\n",
       "      <th>WorkShift</th>\n",
       "      <th>Mode of Work</th>\n",
       "      <th>AgeGroup</th>\n",
       "      <th>Tenure</th>\n",
       "    </tr>\n",
       "  </thead>\n",
       "  <tbody>\n",
       "    <tr>\n",
       "      <th>1</th>\n",
       "      <td>2</td>\n",
       "      <td>Kevin Cabrera</td>\n",
       "      <td>34</td>\n",
       "      <td>Female</td>\n",
       "      <td>Operations</td>\n",
       "      <td>65971</td>\n",
       "      <td>2012-02-03</td>\n",
       "      <td>3</td>\n",
       "      <td>Bachelor's</td>\n",
       "      <td>Nguyenbury</td>\n",
       "      <td>20</td>\n",
       "      <td>Night</td>\n",
       "      <td>Hybrid</td>\n",
       "      <td>25-35</td>\n",
       "      <td>12</td>\n",
       "    </tr>\n",
       "    <tr>\n",
       "      <th>2</th>\n",
       "      <td>3</td>\n",
       "      <td>Rebekah Lopez</td>\n",
       "      <td>58</td>\n",
       "      <td>Other</td>\n",
       "      <td>IT</td>\n",
       "      <td>26271</td>\n",
       "      <td>2005-02-20</td>\n",
       "      <td>3</td>\n",
       "      <td>PhD</td>\n",
       "      <td>Lake David</td>\n",
       "      <td>15</td>\n",
       "      <td>Night</td>\n",
       "      <td>Hybrid</td>\n",
       "      <td>55+</td>\n",
       "      <td>19</td>\n",
       "    </tr>\n",
       "    <tr>\n",
       "      <th>4</th>\n",
       "      <td>5</td>\n",
       "      <td>Alexander Powell</td>\n",
       "      <td>29</td>\n",
       "      <td>Female</td>\n",
       "      <td>IT</td>\n",
       "      <td>34860</td>\n",
       "      <td>2007-07-27</td>\n",
       "      <td>3</td>\n",
       "      <td>PhD</td>\n",
       "      <td>East Joyce</td>\n",
       "      <td>18</td>\n",
       "      <td>Rotational</td>\n",
       "      <td>Hybrid</td>\n",
       "      <td>25-35</td>\n",
       "      <td>17</td>\n",
       "    </tr>\n",
       "    <tr>\n",
       "      <th>10</th>\n",
       "      <td>11</td>\n",
       "      <td>Gregg Strickland</td>\n",
       "      <td>59</td>\n",
       "      <td>Male</td>\n",
       "      <td>IT</td>\n",
       "      <td>54055</td>\n",
       "      <td>2009-04-17</td>\n",
       "      <td>2</td>\n",
       "      <td>Bachelor's</td>\n",
       "      <td>West Jerry</td>\n",
       "      <td>7</td>\n",
       "      <td>Night</td>\n",
       "      <td>On-site</td>\n",
       "      <td>55+</td>\n",
       "      <td>15</td>\n",
       "    </tr>\n",
       "    <tr>\n",
       "      <th>12</th>\n",
       "      <td>13</td>\n",
       "      <td>Shawn Cook</td>\n",
       "      <td>59</td>\n",
       "      <td>Other</td>\n",
       "      <td>Finance</td>\n",
       "      <td>184539</td>\n",
       "      <td>2011-01-02</td>\n",
       "      <td>3</td>\n",
       "      <td>Master's</td>\n",
       "      <td>Palmermouth</td>\n",
       "      <td>21</td>\n",
       "      <td>Rotational</td>\n",
       "      <td>On-site</td>\n",
       "      <td>55+</td>\n",
       "      <td>13</td>\n",
       "    </tr>\n",
       "    <tr>\n",
       "      <th>...</th>\n",
       "      <td>...</td>\n",
       "      <td>...</td>\n",
       "      <td>...</td>\n",
       "      <td>...</td>\n",
       "      <td>...</td>\n",
       "      <td>...</td>\n",
       "      <td>...</td>\n",
       "      <td>...</td>\n",
       "      <td>...</td>\n",
       "      <td>...</td>\n",
       "      <td>...</td>\n",
       "      <td>...</td>\n",
       "      <td>...</td>\n",
       "      <td>...</td>\n",
       "      <td>...</td>\n",
       "    </tr>\n",
       "    <tr>\n",
       "      <th>49990</th>\n",
       "      <td>49991</td>\n",
       "      <td>Michael Simpson</td>\n",
       "      <td>44</td>\n",
       "      <td>Female</td>\n",
       "      <td>HR</td>\n",
       "      <td>80310</td>\n",
       "      <td>2011-11-12</td>\n",
       "      <td>3</td>\n",
       "      <td>Bachelor's</td>\n",
       "      <td>West James</td>\n",
       "      <td>6</td>\n",
       "      <td>Rotational</td>\n",
       "      <td>Hybrid</td>\n",
       "      <td>35-45</td>\n",
       "      <td>13</td>\n",
       "    </tr>\n",
       "    <tr>\n",
       "      <th>49993</th>\n",
       "      <td>49994</td>\n",
       "      <td>Cindy Griffin</td>\n",
       "      <td>61</td>\n",
       "      <td>Male</td>\n",
       "      <td>Operations</td>\n",
       "      <td>88251</td>\n",
       "      <td>2009-05-08</td>\n",
       "      <td>5</td>\n",
       "      <td>High School</td>\n",
       "      <td>Grayview</td>\n",
       "      <td>16</td>\n",
       "      <td>Rotational</td>\n",
       "      <td>Hybrid</td>\n",
       "      <td>55+</td>\n",
       "      <td>15</td>\n",
       "    </tr>\n",
       "    <tr>\n",
       "      <th>49994</th>\n",
       "      <td>49995</td>\n",
       "      <td>Christopher Brewer</td>\n",
       "      <td>34</td>\n",
       "      <td>Female</td>\n",
       "      <td>IT</td>\n",
       "      <td>53671</td>\n",
       "      <td>2006-07-03</td>\n",
       "      <td>4</td>\n",
       "      <td>Bachelor's</td>\n",
       "      <td>East Robert</td>\n",
       "      <td>13</td>\n",
       "      <td>Day</td>\n",
       "      <td>Hybrid</td>\n",
       "      <td>25-35</td>\n",
       "      <td>18</td>\n",
       "    </tr>\n",
       "    <tr>\n",
       "      <th>49995</th>\n",
       "      <td>49996</td>\n",
       "      <td>Justin Stout</td>\n",
       "      <td>55</td>\n",
       "      <td>Male</td>\n",
       "      <td>Marketing</td>\n",
       "      <td>91980</td>\n",
       "      <td>2011-05-18</td>\n",
       "      <td>2</td>\n",
       "      <td>High School</td>\n",
       "      <td>Daviston</td>\n",
       "      <td>12</td>\n",
       "      <td>Rotational</td>\n",
       "      <td>On-site</td>\n",
       "      <td>55+</td>\n",
       "      <td>13</td>\n",
       "    </tr>\n",
       "    <tr>\n",
       "      <th>49996</th>\n",
       "      <td>49997</td>\n",
       "      <td>Edward Combs</td>\n",
       "      <td>27</td>\n",
       "      <td>Male</td>\n",
       "      <td>Finance</td>\n",
       "      <td>111662</td>\n",
       "      <td>2010-07-16</td>\n",
       "      <td>1</td>\n",
       "      <td>Bachelor's</td>\n",
       "      <td>East Lawrence</td>\n",
       "      <td>24</td>\n",
       "      <td>Night</td>\n",
       "      <td>On-site</td>\n",
       "      <td>25-35</td>\n",
       "      <td>14</td>\n",
       "    </tr>\n",
       "  </tbody>\n",
       "</table>\n",
       "<p>22637 rows × 15 columns</p>\n",
       "</div>"
      ],
      "text/plain": [
       "       EmployeeID                Name  Age  Gender  Department  Salary  \\\n",
       "1               2       Kevin Cabrera   34  Female  Operations   65971   \n",
       "2               3       Rebekah Lopez   58   Other          IT   26271   \n",
       "4               5    Alexander Powell   29  Female          IT   34860   \n",
       "10             11    Gregg Strickland   59    Male          IT   54055   \n",
       "12             13          Shawn Cook   59   Other     Finance  184539   \n",
       "...           ...                 ...  ...     ...         ...     ...   \n",
       "49990       49991     Michael Simpson   44  Female          HR   80310   \n",
       "49993       49994       Cindy Griffin   61    Male  Operations   88251   \n",
       "49994       49995  Christopher Brewer   34  Female          IT   53671   \n",
       "49995       49996        Justin Stout   55    Male   Marketing   91980   \n",
       "49996       49997        Edward Combs   27    Male     Finance  111662   \n",
       "\n",
       "        JoinDate  PerformanceRating Education Level Location/Address  \\\n",
       "1     2012-02-03                  3      Bachelor's       Nguyenbury   \n",
       "2     2005-02-20                  3             PhD       Lake David   \n",
       "4     2007-07-27                  3             PhD       East Joyce   \n",
       "10    2009-04-17                  2      Bachelor's       West Jerry   \n",
       "12    2011-01-02                  3        Master's      Palmermouth   \n",
       "...          ...                ...             ...              ...   \n",
       "49990 2011-11-12                  3      Bachelor's       West James   \n",
       "49993 2009-05-08                  5     High School         Grayview   \n",
       "49994 2006-07-03                  4      Bachelor's      East Robert   \n",
       "49995 2011-05-18                  2     High School         Daviston   \n",
       "49996 2010-07-16                  1      Bachelor's    East Lawrence   \n",
       "\n",
       "       Leaves Taken   WorkShift Mode of Work AgeGroup  Tenure  \n",
       "1                20       Night       Hybrid    25-35      12  \n",
       "2                15       Night       Hybrid      55+      19  \n",
       "4                18  Rotational       Hybrid    25-35      17  \n",
       "10                7       Night      On-site      55+      15  \n",
       "12               21  Rotational      On-site      55+      13  \n",
       "...             ...         ...          ...      ...     ...  \n",
       "49990             6  Rotational       Hybrid    35-45      13  \n",
       "49993            16  Rotational       Hybrid      55+      15  \n",
       "49994            13         Day       Hybrid    25-35      18  \n",
       "49995            12  Rotational      On-site      55+      13  \n",
       "49996            24       Night      On-site    25-35      14  \n",
       "\n",
       "[22637 rows x 15 columns]"
      ]
     },
     "execution_count": 29,
     "metadata": {},
     "output_type": "execute_result"
    }
   ],
   "source": [
    "ten_year_employees = df[df['Tenure'] > 10]\n",
    "ten_year_employees"
   ]
  },
  {
   "cell_type": "markdown",
   "id": "a53e9d89",
   "metadata": {},
   "source": [
    "### Identify the top 5 performing employees in terms of salary in each department. Display their EmployeeID, Name, Age, Gender, Department"
   ]
  },
  {
   "cell_type": "code",
   "execution_count": 30,
   "id": "8ba1e123",
   "metadata": {},
   "outputs": [
    {
     "data": {
      "text/html": [
       "<div>\n",
       "<style scoped>\n",
       "    .dataframe tbody tr th:only-of-type {\n",
       "        vertical-align: middle;\n",
       "    }\n",
       "\n",
       "    .dataframe tbody tr th {\n",
       "        vertical-align: top;\n",
       "    }\n",
       "\n",
       "    .dataframe thead th {\n",
       "        text-align: right;\n",
       "    }\n",
       "</style>\n",
       "<table border=\"1\" class=\"dataframe\">\n",
       "  <thead>\n",
       "    <tr style=\"text-align: right;\">\n",
       "      <th></th>\n",
       "      <th>EmployeeID</th>\n",
       "      <th>Name</th>\n",
       "      <th>Age</th>\n",
       "      <th>Gender</th>\n",
       "      <th>Education Level</th>\n",
       "      <th>Department</th>\n",
       "      <th>Salary</th>\n",
       "      <th>Rank</th>\n",
       "    </tr>\n",
       "  </thead>\n",
       "  <tbody>\n",
       "    <tr>\n",
       "      <th>35805</th>\n",
       "      <td>35806</td>\n",
       "      <td>Mrs. Alyssa Vargas</td>\n",
       "      <td>29</td>\n",
       "      <td>Other</td>\n",
       "      <td>Bachelor's</td>\n",
       "      <td>Finance</td>\n",
       "      <td>199929</td>\n",
       "      <td>1.0</td>\n",
       "    </tr>\n",
       "    <tr>\n",
       "      <th>36038</th>\n",
       "      <td>36039</td>\n",
       "      <td>Tamara Gordon</td>\n",
       "      <td>64</td>\n",
       "      <td>Other</td>\n",
       "      <td>High School</td>\n",
       "      <td>Finance</td>\n",
       "      <td>199918</td>\n",
       "      <td>2.0</td>\n",
       "    </tr>\n",
       "    <tr>\n",
       "      <th>49132</th>\n",
       "      <td>49133</td>\n",
       "      <td>Rachel Love</td>\n",
       "      <td>53</td>\n",
       "      <td>Female</td>\n",
       "      <td>High School</td>\n",
       "      <td>Finance</td>\n",
       "      <td>199907</td>\n",
       "      <td>3.0</td>\n",
       "    </tr>\n",
       "    <tr>\n",
       "      <th>28765</th>\n",
       "      <td>28766</td>\n",
       "      <td>Kelli Mason</td>\n",
       "      <td>61</td>\n",
       "      <td>Other</td>\n",
       "      <td>PhD</td>\n",
       "      <td>Finance</td>\n",
       "      <td>199897</td>\n",
       "      <td>4.0</td>\n",
       "    </tr>\n",
       "    <tr>\n",
       "      <th>37940</th>\n",
       "      <td>37941</td>\n",
       "      <td>Paul Schroeder</td>\n",
       "      <td>30</td>\n",
       "      <td>Male</td>\n",
       "      <td>Master's</td>\n",
       "      <td>Finance</td>\n",
       "      <td>199886</td>\n",
       "      <td>5.0</td>\n",
       "    </tr>\n",
       "    <tr>\n",
       "      <th>7730</th>\n",
       "      <td>7731</td>\n",
       "      <td>Shannon Porter</td>\n",
       "      <td>18</td>\n",
       "      <td>Male</td>\n",
       "      <td>PhD</td>\n",
       "      <td>HR</td>\n",
       "      <td>199998</td>\n",
       "      <td>1.0</td>\n",
       "    </tr>\n",
       "    <tr>\n",
       "      <th>4216</th>\n",
       "      <td>4217</td>\n",
       "      <td>Jennifer Powell</td>\n",
       "      <td>60</td>\n",
       "      <td>Female</td>\n",
       "      <td>PhD</td>\n",
       "      <td>HR</td>\n",
       "      <td>199975</td>\n",
       "      <td>2.0</td>\n",
       "    </tr>\n",
       "    <tr>\n",
       "      <th>14533</th>\n",
       "      <td>14534</td>\n",
       "      <td>Melissa Alvarez</td>\n",
       "      <td>35</td>\n",
       "      <td>Male</td>\n",
       "      <td>Master's</td>\n",
       "      <td>HR</td>\n",
       "      <td>199973</td>\n",
       "      <td>3.0</td>\n",
       "    </tr>\n",
       "    <tr>\n",
       "      <th>24636</th>\n",
       "      <td>24637</td>\n",
       "      <td>Dennis Green</td>\n",
       "      <td>43</td>\n",
       "      <td>Female</td>\n",
       "      <td>PhD</td>\n",
       "      <td>HR</td>\n",
       "      <td>199923</td>\n",
       "      <td>4.0</td>\n",
       "    </tr>\n",
       "    <tr>\n",
       "      <th>39963</th>\n",
       "      <td>39964</td>\n",
       "      <td>Brenda Gibson</td>\n",
       "      <td>35</td>\n",
       "      <td>Male</td>\n",
       "      <td>Bachelor's</td>\n",
       "      <td>HR</td>\n",
       "      <td>199824</td>\n",
       "      <td>5.0</td>\n",
       "    </tr>\n",
       "    <tr>\n",
       "      <th>21957</th>\n",
       "      <td>21958</td>\n",
       "      <td>Brendan Miller</td>\n",
       "      <td>65</td>\n",
       "      <td>Female</td>\n",
       "      <td>Master's</td>\n",
       "      <td>IT</td>\n",
       "      <td>199990</td>\n",
       "      <td>1.0</td>\n",
       "    </tr>\n",
       "    <tr>\n",
       "      <th>4391</th>\n",
       "      <td>4392</td>\n",
       "      <td>Martin Martin</td>\n",
       "      <td>63</td>\n",
       "      <td>Female</td>\n",
       "      <td>Bachelor's</td>\n",
       "      <td>IT</td>\n",
       "      <td>199983</td>\n",
       "      <td>2.0</td>\n",
       "    </tr>\n",
       "    <tr>\n",
       "      <th>29856</th>\n",
       "      <td>29857</td>\n",
       "      <td>Ashley Jones</td>\n",
       "      <td>32</td>\n",
       "      <td>Male</td>\n",
       "      <td>PhD</td>\n",
       "      <td>IT</td>\n",
       "      <td>199938</td>\n",
       "      <td>3.0</td>\n",
       "    </tr>\n",
       "    <tr>\n",
       "      <th>8725</th>\n",
       "      <td>8726</td>\n",
       "      <td>Kevin Combs</td>\n",
       "      <td>18</td>\n",
       "      <td>Other</td>\n",
       "      <td>Bachelor's</td>\n",
       "      <td>IT</td>\n",
       "      <td>199917</td>\n",
       "      <td>4.0</td>\n",
       "    </tr>\n",
       "    <tr>\n",
       "      <th>22693</th>\n",
       "      <td>22694</td>\n",
       "      <td>Margaret Holder</td>\n",
       "      <td>42</td>\n",
       "      <td>Male</td>\n",
       "      <td>Master's</td>\n",
       "      <td>IT</td>\n",
       "      <td>199869</td>\n",
       "      <td>5.0</td>\n",
       "    </tr>\n",
       "    <tr>\n",
       "      <th>44860</th>\n",
       "      <td>44861</td>\n",
       "      <td>Monique Stout</td>\n",
       "      <td>41</td>\n",
       "      <td>Female</td>\n",
       "      <td>Master's</td>\n",
       "      <td>Marketing</td>\n",
       "      <td>199992</td>\n",
       "      <td>1.0</td>\n",
       "    </tr>\n",
       "    <tr>\n",
       "      <th>6334</th>\n",
       "      <td>6335</td>\n",
       "      <td>Stephen Combs</td>\n",
       "      <td>59</td>\n",
       "      <td>Male</td>\n",
       "      <td>Bachelor's</td>\n",
       "      <td>Marketing</td>\n",
       "      <td>199965</td>\n",
       "      <td>2.0</td>\n",
       "    </tr>\n",
       "    <tr>\n",
       "      <th>46750</th>\n",
       "      <td>46751</td>\n",
       "      <td>Tonya Andrews</td>\n",
       "      <td>27</td>\n",
       "      <td>Male</td>\n",
       "      <td>PhD</td>\n",
       "      <td>Marketing</td>\n",
       "      <td>199945</td>\n",
       "      <td>3.0</td>\n",
       "    </tr>\n",
       "    <tr>\n",
       "      <th>16361</th>\n",
       "      <td>16362</td>\n",
       "      <td>Carolyn Mclaughlin</td>\n",
       "      <td>56</td>\n",
       "      <td>Male</td>\n",
       "      <td>High School</td>\n",
       "      <td>Marketing</td>\n",
       "      <td>199943</td>\n",
       "      <td>4.0</td>\n",
       "    </tr>\n",
       "    <tr>\n",
       "      <th>44055</th>\n",
       "      <td>44056</td>\n",
       "      <td>Holly Hamilton</td>\n",
       "      <td>52</td>\n",
       "      <td>Male</td>\n",
       "      <td>PhD</td>\n",
       "      <td>Marketing</td>\n",
       "      <td>199931</td>\n",
       "      <td>5.0</td>\n",
       "    </tr>\n",
       "    <tr>\n",
       "      <th>9061</th>\n",
       "      <td>9062</td>\n",
       "      <td>Patrick Phillips</td>\n",
       "      <td>26</td>\n",
       "      <td>Other</td>\n",
       "      <td>PhD</td>\n",
       "      <td>Operations</td>\n",
       "      <td>199953</td>\n",
       "      <td>1.0</td>\n",
       "    </tr>\n",
       "    <tr>\n",
       "      <th>21515</th>\n",
       "      <td>21516</td>\n",
       "      <td>Dillon Lewis</td>\n",
       "      <td>65</td>\n",
       "      <td>Female</td>\n",
       "      <td>High School</td>\n",
       "      <td>Operations</td>\n",
       "      <td>199928</td>\n",
       "      <td>2.0</td>\n",
       "    </tr>\n",
       "    <tr>\n",
       "      <th>27446</th>\n",
       "      <td>27447</td>\n",
       "      <td>Patrick Freeman</td>\n",
       "      <td>39</td>\n",
       "      <td>Male</td>\n",
       "      <td>Master's</td>\n",
       "      <td>Operations</td>\n",
       "      <td>199916</td>\n",
       "      <td>3.0</td>\n",
       "    </tr>\n",
       "    <tr>\n",
       "      <th>27174</th>\n",
       "      <td>27175</td>\n",
       "      <td>Benjamin Rivera</td>\n",
       "      <td>19</td>\n",
       "      <td>Male</td>\n",
       "      <td>Bachelor's</td>\n",
       "      <td>Operations</td>\n",
       "      <td>199859</td>\n",
       "      <td>4.0</td>\n",
       "    </tr>\n",
       "    <tr>\n",
       "      <th>4367</th>\n",
       "      <td>4368</td>\n",
       "      <td>Laurie Chan</td>\n",
       "      <td>46</td>\n",
       "      <td>Male</td>\n",
       "      <td>Bachelor's</td>\n",
       "      <td>Operations</td>\n",
       "      <td>199842</td>\n",
       "      <td>5.0</td>\n",
       "    </tr>\n",
       "    <tr>\n",
       "      <th>11449</th>\n",
       "      <td>11450</td>\n",
       "      <td>Cheryl Byrd</td>\n",
       "      <td>62</td>\n",
       "      <td>Other</td>\n",
       "      <td>Master's</td>\n",
       "      <td>Sales</td>\n",
       "      <td>199984</td>\n",
       "      <td>1.0</td>\n",
       "    </tr>\n",
       "    <tr>\n",
       "      <th>25248</th>\n",
       "      <td>25249</td>\n",
       "      <td>Gina Miller</td>\n",
       "      <td>64</td>\n",
       "      <td>Female</td>\n",
       "      <td>Master's</td>\n",
       "      <td>Sales</td>\n",
       "      <td>199947</td>\n",
       "      <td>2.0</td>\n",
       "    </tr>\n",
       "    <tr>\n",
       "      <th>13141</th>\n",
       "      <td>13142</td>\n",
       "      <td>Wyatt Thompson</td>\n",
       "      <td>54</td>\n",
       "      <td>Male</td>\n",
       "      <td>Master's</td>\n",
       "      <td>Sales</td>\n",
       "      <td>199944</td>\n",
       "      <td>3.0</td>\n",
       "    </tr>\n",
       "    <tr>\n",
       "      <th>42761</th>\n",
       "      <td>42762</td>\n",
       "      <td>Natasha Soto</td>\n",
       "      <td>21</td>\n",
       "      <td>Female</td>\n",
       "      <td>Bachelor's</td>\n",
       "      <td>Sales</td>\n",
       "      <td>199944</td>\n",
       "      <td>3.0</td>\n",
       "    </tr>\n",
       "    <tr>\n",
       "      <th>23997</th>\n",
       "      <td>23998</td>\n",
       "      <td>Monica Smith</td>\n",
       "      <td>45</td>\n",
       "      <td>Female</td>\n",
       "      <td>Bachelor's</td>\n",
       "      <td>Sales</td>\n",
       "      <td>199911</td>\n",
       "      <td>4.0</td>\n",
       "    </tr>\n",
       "    <tr>\n",
       "      <th>5401</th>\n",
       "      <td>5402</td>\n",
       "      <td>Kyle Miller</td>\n",
       "      <td>52</td>\n",
       "      <td>Female</td>\n",
       "      <td>High School</td>\n",
       "      <td>Sales</td>\n",
       "      <td>199907</td>\n",
       "      <td>5.0</td>\n",
       "    </tr>\n",
       "  </tbody>\n",
       "</table>\n",
       "</div>"
      ],
      "text/plain": [
       "       EmployeeID                Name  Age  Gender Education Level  \\\n",
       "35805       35806  Mrs. Alyssa Vargas   29   Other      Bachelor's   \n",
       "36038       36039       Tamara Gordon   64   Other     High School   \n",
       "49132       49133         Rachel Love   53  Female     High School   \n",
       "28765       28766         Kelli Mason   61   Other             PhD   \n",
       "37940       37941      Paul Schroeder   30    Male        Master's   \n",
       "7730         7731      Shannon Porter   18    Male             PhD   \n",
       "4216         4217     Jennifer Powell   60  Female             PhD   \n",
       "14533       14534     Melissa Alvarez   35    Male        Master's   \n",
       "24636       24637        Dennis Green   43  Female             PhD   \n",
       "39963       39964       Brenda Gibson   35    Male      Bachelor's   \n",
       "21957       21958      Brendan Miller   65  Female        Master's   \n",
       "4391         4392       Martin Martin   63  Female      Bachelor's   \n",
       "29856       29857        Ashley Jones   32    Male             PhD   \n",
       "8725         8726         Kevin Combs   18   Other      Bachelor's   \n",
       "22693       22694     Margaret Holder   42    Male        Master's   \n",
       "44860       44861       Monique Stout   41  Female        Master's   \n",
       "6334         6335       Stephen Combs   59    Male      Bachelor's   \n",
       "46750       46751       Tonya Andrews   27    Male             PhD   \n",
       "16361       16362  Carolyn Mclaughlin   56    Male     High School   \n",
       "44055       44056      Holly Hamilton   52    Male             PhD   \n",
       "9061         9062    Patrick Phillips   26   Other             PhD   \n",
       "21515       21516        Dillon Lewis   65  Female     High School   \n",
       "27446       27447     Patrick Freeman   39    Male        Master's   \n",
       "27174       27175     Benjamin Rivera   19    Male      Bachelor's   \n",
       "4367         4368         Laurie Chan   46    Male      Bachelor's   \n",
       "11449       11450         Cheryl Byrd   62   Other        Master's   \n",
       "25248       25249         Gina Miller   64  Female        Master's   \n",
       "13141       13142      Wyatt Thompson   54    Male        Master's   \n",
       "42761       42762        Natasha Soto   21  Female      Bachelor's   \n",
       "23997       23998        Monica Smith   45  Female      Bachelor's   \n",
       "5401         5402         Kyle Miller   52  Female     High School   \n",
       "\n",
       "       Department  Salary  Rank  \n",
       "35805     Finance  199929   1.0  \n",
       "36038     Finance  199918   2.0  \n",
       "49132     Finance  199907   3.0  \n",
       "28765     Finance  199897   4.0  \n",
       "37940     Finance  199886   5.0  \n",
       "7730           HR  199998   1.0  \n",
       "4216           HR  199975   2.0  \n",
       "14533          HR  199973   3.0  \n",
       "24636          HR  199923   4.0  \n",
       "39963          HR  199824   5.0  \n",
       "21957          IT  199990   1.0  \n",
       "4391           IT  199983   2.0  \n",
       "29856          IT  199938   3.0  \n",
       "8725           IT  199917   4.0  \n",
       "22693          IT  199869   5.0  \n",
       "44860   Marketing  199992   1.0  \n",
       "6334    Marketing  199965   2.0  \n",
       "46750   Marketing  199945   3.0  \n",
       "16361   Marketing  199943   4.0  \n",
       "44055   Marketing  199931   5.0  \n",
       "9061   Operations  199953   1.0  \n",
       "21515  Operations  199928   2.0  \n",
       "27446  Operations  199916   3.0  \n",
       "27174  Operations  199859   4.0  \n",
       "4367   Operations  199842   5.0  \n",
       "11449       Sales  199984   1.0  \n",
       "25248       Sales  199947   2.0  \n",
       "13141       Sales  199944   3.0  \n",
       "42761       Sales  199944   3.0  \n",
       "23997       Sales  199911   4.0  \n",
       "5401        Sales  199907   5.0  "
      ]
     },
     "execution_count": 30,
     "metadata": {},
     "output_type": "execute_result"
    }
   ],
   "source": [
    "df_sorted = df.sort_values(by=['Department','Salary'], ascending=[True,False])\n",
    "df['Rank'] = df_sorted.groupby('Department')['Salary'].rank(method='dense', ascending=False)\n",
    "top_performing_emp = df[df['Rank'] <= 5][['EmployeeID','Name','Age','Gender','Education Level','Department','Salary','Rank']]\n",
    "top_performing_emp.sort_values(by=['Department','Salary'], ascending=[True,False])"
   ]
  },
  {
   "cell_type": "markdown",
   "id": "b4716e54",
   "metadata": {},
   "source": [
    "### Determine how many employees in each department have a PerformanceRating of 5."
   ]
  },
  {
   "cell_type": "code",
   "execution_count": 31,
   "id": "4901be2d",
   "metadata": {},
   "outputs": [
    {
     "data": {
      "text/plain": [
       "Department\n",
       "Finance       1662\n",
       "HR            1676\n",
       "IT            1697\n",
       "Marketing     1629\n",
       "Operations    1697\n",
       "Sales         1707\n",
       "dtype: int64"
      ]
     },
     "execution_count": 31,
     "metadata": {},
     "output_type": "execute_result"
    }
   ],
   "source": [
    "high_performance_rating = df[df['PerformanceRating'] == 5].groupby('Department').size()\n",
    "high_performance_rating"
   ]
  },
  {
   "cell_type": "markdown",
   "id": "123f8710",
   "metadata": {},
   "source": [
    "### Determine how many employees in each department have a PerformanceRating of 1."
   ]
  },
  {
   "cell_type": "code",
   "execution_count": 42,
   "id": "c0fc43ed",
   "metadata": {},
   "outputs": [
    {
     "data": {
      "text/plain": [
       "Department\n",
       "Finance       1633\n",
       "HR            1774\n",
       "IT            1610\n",
       "Marketing     1645\n",
       "Operations    1685\n",
       "Sales         1576\n",
       "dtype: int64"
      ]
     },
     "execution_count": 42,
     "metadata": {},
     "output_type": "execute_result"
    }
   ],
   "source": [
    "low_performance_rating = df[df['PerformanceRating'] == 1].groupby('Department').size()\n",
    "low_performance_rating"
   ]
  },
  {
   "cell_type": "markdown",
   "id": "fd885363",
   "metadata": {},
   "source": [
    "### Identify the employee who have taken maximum number of leaves in each department. Display their EmployeeID, Name, Age, Gender, Department, Leaves"
   ]
  },
  {
   "cell_type": "code",
   "execution_count": 32,
   "id": "cc1620ae",
   "metadata": {},
   "outputs": [
    {
     "data": {
      "text/html": [
       "<div>\n",
       "<style scoped>\n",
       "    .dataframe tbody tr th:only-of-type {\n",
       "        vertical-align: middle;\n",
       "    }\n",
       "\n",
       "    .dataframe tbody tr th {\n",
       "        vertical-align: top;\n",
       "    }\n",
       "\n",
       "    .dataframe thead th {\n",
       "        text-align: right;\n",
       "    }\n",
       "</style>\n",
       "<table border=\"1\" class=\"dataframe\">\n",
       "  <thead>\n",
       "    <tr style=\"text-align: right;\">\n",
       "      <th></th>\n",
       "      <th>index</th>\n",
       "      <th>EmployeeID</th>\n",
       "      <th>Name</th>\n",
       "      <th>Age</th>\n",
       "      <th>Gender</th>\n",
       "      <th>Department</th>\n",
       "      <th>Leaves Taken</th>\n",
       "    </tr>\n",
       "  </thead>\n",
       "  <tbody>\n",
       "    <tr>\n",
       "      <th>0</th>\n",
       "      <td>246</td>\n",
       "      <td>247</td>\n",
       "      <td>Phillip Johnson</td>\n",
       "      <td>26</td>\n",
       "      <td>Female</td>\n",
       "      <td>Finance</td>\n",
       "      <td>30</td>\n",
       "    </tr>\n",
       "    <tr>\n",
       "      <th>1</th>\n",
       "      <td>344</td>\n",
       "      <td>345</td>\n",
       "      <td>Jennifer Wood</td>\n",
       "      <td>61</td>\n",
       "      <td>Male</td>\n",
       "      <td>Finance</td>\n",
       "      <td>30</td>\n",
       "    </tr>\n",
       "    <tr>\n",
       "      <th>2</th>\n",
       "      <td>511</td>\n",
       "      <td>512</td>\n",
       "      <td>Eugene Anderson MD</td>\n",
       "      <td>41</td>\n",
       "      <td>Male</td>\n",
       "      <td>Finance</td>\n",
       "      <td>30</td>\n",
       "    </tr>\n",
       "    <tr>\n",
       "      <th>3</th>\n",
       "      <td>860</td>\n",
       "      <td>861</td>\n",
       "      <td>Cody Martin</td>\n",
       "      <td>49</td>\n",
       "      <td>Female</td>\n",
       "      <td>Finance</td>\n",
       "      <td>30</td>\n",
       "    </tr>\n",
       "    <tr>\n",
       "      <th>4</th>\n",
       "      <td>910</td>\n",
       "      <td>911</td>\n",
       "      <td>Mackenzie Guzman</td>\n",
       "      <td>45</td>\n",
       "      <td>Other</td>\n",
       "      <td>Finance</td>\n",
       "      <td>30</td>\n",
       "    </tr>\n",
       "    <tr>\n",
       "      <th>...</th>\n",
       "      <td>...</td>\n",
       "      <td>...</td>\n",
       "      <td>...</td>\n",
       "      <td>...</td>\n",
       "      <td>...</td>\n",
       "      <td>...</td>\n",
       "      <td>...</td>\n",
       "    </tr>\n",
       "    <tr>\n",
       "      <th>1593</th>\n",
       "      <td>49575</td>\n",
       "      <td>49576</td>\n",
       "      <td>Alexandra Mcdowell</td>\n",
       "      <td>64</td>\n",
       "      <td>Male</td>\n",
       "      <td>Sales</td>\n",
       "      <td>30</td>\n",
       "    </tr>\n",
       "    <tr>\n",
       "      <th>1594</th>\n",
       "      <td>49695</td>\n",
       "      <td>49696</td>\n",
       "      <td>Alexa Ellis</td>\n",
       "      <td>49</td>\n",
       "      <td>Male</td>\n",
       "      <td>Sales</td>\n",
       "      <td>30</td>\n",
       "    </tr>\n",
       "    <tr>\n",
       "      <th>1595</th>\n",
       "      <td>49703</td>\n",
       "      <td>49704</td>\n",
       "      <td>Wesley Bennett</td>\n",
       "      <td>43</td>\n",
       "      <td>Male</td>\n",
       "      <td>Sales</td>\n",
       "      <td>30</td>\n",
       "    </tr>\n",
       "    <tr>\n",
       "      <th>1596</th>\n",
       "      <td>49780</td>\n",
       "      <td>49781</td>\n",
       "      <td>Jeffrey Perry</td>\n",
       "      <td>26</td>\n",
       "      <td>Male</td>\n",
       "      <td>Sales</td>\n",
       "      <td>30</td>\n",
       "    </tr>\n",
       "    <tr>\n",
       "      <th>1597</th>\n",
       "      <td>49917</td>\n",
       "      <td>49918</td>\n",
       "      <td>Andrew Landry</td>\n",
       "      <td>50</td>\n",
       "      <td>Other</td>\n",
       "      <td>Sales</td>\n",
       "      <td>30</td>\n",
       "    </tr>\n",
       "  </tbody>\n",
       "</table>\n",
       "<p>1598 rows × 7 columns</p>\n",
       "</div>"
      ],
      "text/plain": [
       "      index  EmployeeID                Name  Age  Gender Department  \\\n",
       "0       246         247     Phillip Johnson   26  Female    Finance   \n",
       "1       344         345       Jennifer Wood   61    Male    Finance   \n",
       "2       511         512  Eugene Anderson MD   41    Male    Finance   \n",
       "3       860         861         Cody Martin   49  Female    Finance   \n",
       "4       910         911    Mackenzie Guzman   45   Other    Finance   \n",
       "...     ...         ...                 ...  ...     ...        ...   \n",
       "1593  49575       49576  Alexandra Mcdowell   64    Male      Sales   \n",
       "1594  49695       49696         Alexa Ellis   49    Male      Sales   \n",
       "1595  49703       49704      Wesley Bennett   43    Male      Sales   \n",
       "1596  49780       49781       Jeffrey Perry   26    Male      Sales   \n",
       "1597  49917       49918       Andrew Landry   50   Other      Sales   \n",
       "\n",
       "      Leaves Taken  \n",
       "0               30  \n",
       "1               30  \n",
       "2               30  \n",
       "3               30  \n",
       "4               30  \n",
       "...            ...  \n",
       "1593            30  \n",
       "1594            30  \n",
       "1595            30  \n",
       "1596            30  \n",
       "1597            30  \n",
       "\n",
       "[1598 rows x 7 columns]"
      ]
     },
     "execution_count": 32,
     "metadata": {},
     "output_type": "execute_result"
    }
   ],
   "source": [
    "max_leave_emp = df.sort_values(['Department','Leaves Taken'], ascending=[True,False])\n",
    "df['Leave_Rank'] = max_leave_emp.groupby('Department')['Leaves Taken'].rank(method='dense',ascending=False)\n",
    "emp_with_max_leaves = df[df['Leave_Rank'] == 1][['EmployeeID','Name','Age','Gender','Department','Leaves Taken']]\n",
    "emp_with_max_leaves.sort_values(['Department','Leaves Taken'], ascending=[True,False]).reset_index()"
   ]
  },
  {
   "cell_type": "markdown",
   "id": "3b0f805e",
   "metadata": {},
   "source": [
    "### Display how many employees in each department have a PhD education level."
   ]
  },
  {
   "cell_type": "code",
   "execution_count": 33,
   "id": "c854829a",
   "metadata": {},
   "outputs": [
    {
     "data": {
      "text/plain": [
       "Department\n",
       "Finance       2015\n",
       "HR            2100\n",
       "IT            2039\n",
       "Marketing     2088\n",
       "Operations    2174\n",
       "Sales         2068\n",
       "dtype: int64"
      ]
     },
     "execution_count": 33,
     "metadata": {},
     "output_type": "execute_result"
    }
   ],
   "source": [
    "phd_edu = df[df['Education Level'] == 'PhD'].groupby('Department').size()\n",
    "phd_edu"
   ]
  }
 ],
 "metadata": {
  "kernelspec": {
   "display_name": "Python 3 (ipykernel)",
   "language": "python",
   "name": "python3"
  },
  "language_info": {
   "codemirror_mode": {
    "name": "ipython",
    "version": 3
   },
   "file_extension": ".py",
   "mimetype": "text/x-python",
   "name": "python",
   "nbconvert_exporter": "python",
   "pygments_lexer": "ipython3",
   "version": "3.10.9"
  }
 },
 "nbformat": 4,
 "nbformat_minor": 5
}
